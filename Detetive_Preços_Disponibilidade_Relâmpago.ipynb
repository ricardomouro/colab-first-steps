{
  "nbformat": 4,
  "nbformat_minor": 0,
  "metadata": {
    "colab": {
      "provenance": []
    },
    "kernelspec": {
      "name": "python3",
      "display_name": "Python 3"
    },
    "language_info": {
      "name": "python"
    }
  },
  "cells": [
    {
      "cell_type": "code",
      "execution_count": 2,
      "metadata": {
        "colab": {
          "base_uri": "https://localhost:8080/"
        },
        "id": "LuV5swYQa_lq",
        "outputId": "3648ac8d-8e96-4b04-9407-8968383a20e0"
      },
      "outputs": [
        {
          "output_type": "stream",
          "name": "stdout",
          "text": [
            "\u001b[2K   \u001b[90m━━━━━━━━━━━━━━━━━━━━━━━━━━━━━━━━━━━━━━━━\u001b[0m \u001b[32m1.2/1.2 MB\u001b[0m \u001b[31m16.0 MB/s\u001b[0m eta \u001b[36m0:00:00\u001b[0m\n",
            "\u001b[2K   \u001b[90m━━━━━━━━━━━━━━━━━━━━━━━━━━━━━━━━━━━━━━━━\u001b[0m \u001b[32m232.1/232.1 kB\u001b[0m \u001b[31m15.9 MB/s\u001b[0m eta \u001b[36m0:00:00\u001b[0m\n",
            "\u001b[2K   \u001b[90m━━━━━━━━━━━━━━━━━━━━━━━━━━━━━━━━━━━━━━━━\u001b[0m \u001b[32m95.2/95.2 kB\u001b[0m \u001b[31m7.1 MB/s\u001b[0m eta \u001b[36m0:00:00\u001b[0m\n",
            "\u001b[2K   \u001b[90m━━━━━━━━━━━━━━━━━━━━━━━━━━━━━━━━━━━━━━━━\u001b[0m \u001b[32m217.1/217.1 kB\u001b[0m \u001b[31m16.1 MB/s\u001b[0m eta \u001b[36m0:00:00\u001b[0m\n",
            "\u001b[2K   \u001b[90m━━━━━━━━━━━━━━━━━━━━━━━━━━━━━━━━━━━━━━━━\u001b[0m \u001b[32m334.1/334.1 kB\u001b[0m \u001b[31m22.6 MB/s\u001b[0m eta \u001b[36m0:00:00\u001b[0m\n",
            "\u001b[2K   \u001b[90m━━━━━━━━━━━━━━━━━━━━━━━━━━━━━━━━━━━━━━━━\u001b[0m \u001b[32m125.1/125.1 kB\u001b[0m \u001b[31m10.2 MB/s\u001b[0m eta \u001b[36m0:00:00\u001b[0m\n",
            "\u001b[2K   \u001b[90m━━━━━━━━━━━━━━━━━━━━━━━━━━━━━━━━━━━━━━━━\u001b[0m \u001b[32m65.8/65.8 kB\u001b[0m \u001b[31m5.1 MB/s\u001b[0m eta \u001b[36m0:00:00\u001b[0m\n",
            "\u001b[2K   \u001b[90m━━━━━━━━━━━━━━━━━━━━━━━━━━━━━━━━━━━━━━━━\u001b[0m \u001b[32m119.0/119.0 kB\u001b[0m \u001b[31m9.6 MB/s\u001b[0m eta \u001b[36m0:00:00\u001b[0m\n",
            "\u001b[2K   \u001b[90m━━━━━━━━━━━━━━━━━━━━━━━━━━━━━━━━━━━━━━━━\u001b[0m \u001b[32m194.9/194.9 kB\u001b[0m \u001b[31m13.9 MB/s\u001b[0m eta \u001b[36m0:00:00\u001b[0m\n",
            "\u001b[2K   \u001b[90m━━━━━━━━━━━━━━━━━━━━━━━━━━━━━━━━━━━━━━━━\u001b[0m \u001b[32m62.5/62.5 kB\u001b[0m \u001b[31m4.2 MB/s\u001b[0m eta \u001b[36m0:00:00\u001b[0m\n",
            "\u001b[2K   \u001b[90m━━━━━━━━━━━━━━━━━━━━━━━━━━━━━━━━━━━━━━━━\u001b[0m \u001b[32m103.3/103.3 kB\u001b[0m \u001b[31m8.0 MB/s\u001b[0m eta \u001b[36m0:00:00\u001b[0m\n",
            "\u001b[2K   \u001b[90m━━━━━━━━━━━━━━━━━━━━━━━━━━━━━━━━━━━━━━━━\u001b[0m \u001b[32m44.4/44.4 kB\u001b[0m \u001b[31m3.2 MB/s\u001b[0m eta \u001b[36m0:00:00\u001b[0m\n",
            "\u001b[2K   \u001b[90m━━━━━━━━━━━━━━━━━━━━━━━━━━━━━━━━━━━━━━━━\u001b[0m \u001b[32m72.0/72.0 kB\u001b[0m \u001b[31m5.9 MB/s\u001b[0m eta \u001b[36m0:00:00\u001b[0m\n",
            "\u001b[?25h"
          ]
        }
      ],
      "source": [
        "# Certifique-se de que as bibliotecas estão instaladas no ambiente Colab\n",
        "!pip -q install google-genai google-adk requests\n",
        "\n"
      ]
    },
    {
      "cell_type": "code",
      "source": [
        "# Configura a API Key do Google Gemini\n",
        "import os\n",
        "from google.colab import userdata\n"
      ],
      "metadata": {
        "id": "F2MkIpqUcZ8q"
      },
      "execution_count": 3,
      "outputs": []
    },
    {
      "cell_type": "code",
      "source": [
        "\n",
        "# Tenta obter a API key. Se não estiver definida, avisa o usuário.\n",
        "try:\n",
        "\n",
        "    os.environ[\"GOOGLE_API_KEY\"] = userdata.get('GOOGLE_API_KEY')\n",
        "    if os.environ[\"GOOGLE_API_KEY\"] is None:\n",
        "        raise ValueError(\"GOOGLE_API_KEY não encontrada no Colab Secrets.\")\n",
        "    print(\"GOOGLE_API_KEY configurada com sucesso.\") # Opcional: Descomente para confirmar\n",
        "except Exception as e:\n",
        "    print(f\"Erro ao configurar GOOGLE_API_KEY: {e}\")\n",
        "    print(\"Por favor, certifique-se de que a GOOGLE_API_KEY está definida nos Secrets do Colab (chave: GOOGLE_API_KEY).\")\n",
        "    print(\"O programa continuará, mas as chamadas à API Gemini falharão se a chave não estiver correta.\")\n"
      ],
      "metadata": {
        "colab": {
          "base_uri": "https://localhost:8080/"
        },
        "id": "Sa0t7LjRcu3t",
        "outputId": "0b44fde6-ecbf-4126-c944-6ec9772ba192"
      },
      "execution_count": 6,
      "outputs": [
        {
          "output_type": "stream",
          "name": "stdout",
          "text": [
            "GOOGLE_API_KEY configurada com sucesso.\n"
          ]
        }
      ]
    },
    {
      "cell_type": "code",
      "source": [
        "\n",
        "# Configura o cliente da SDK do Gemini (embora o ADK o gerencie internamente para Agents)\n",
        "from google import genai\n",
        "\n",
        "MODEL_ID_AGENT = \"gemini-2.0-flash\" # Usando o mesmo modelo do exemplo do usuário\n",
        "\n",
        "# Imports do ADK e outros utilitários\n",
        "from google.adk.agents import Agent\n",
        "from google.adk.runners import Runner\n",
        "from google.adk.sessions import InMemorySessionService\n",
        "from google.adk.tools import google_search\n",
        "from google.genai import types as genai_types # Renomeado para evitar conflito\n",
        "from datetime import date\n",
        "import textwrap\n",
        "from IPython.display import display, Markdown\n",
        "import warnings\n",
        "\n",
        "warnings.filterwarnings(\"ignore\") # Como no original\n",
        "\n",
        "# Função auxiliar que envia uma mensagem para um agente via Runner e retorna a resposta final\n",
        "def call_agent(agent: Agent, message_text: str) -> str:\n",
        "    session_service = InMemorySessionService()\n",
        "    session = session_service.create_session(app_name=agent.name, user_id=\"detetive_user\", session_id=\"preco_session_01\") # Session ID único\n",
        "    runner = Runner(agent=agent, app_name=agent.name, session_service=session_service)\n",
        "    content = genai_types.Content(role=\"user\", parts=[genai_types.Part(text=message_text)])\n",
        "\n",
        "    final_response = \"\"\n",
        "    for event in runner.run(user_id=\"detetive_user\", session_id=\"preco_session_01\", new_message=content):\n",
        "        if event.is_final_response():\n",
        "          for part in event.content.parts:\n",
        "            if part.text is not None:\n",
        "              final_response += part.text\n",
        "              final_response += \"\\n\"\n",
        "\n",
        "    if not final_response.strip() and agent.tools: # Se não houve resposta e o agente tinha ferramentas\n",
        "        print(f\"⚠️ Atenção: O agente {agent.name} não retornou uma resposta final substancial. Verifique as instruções e se a ferramenta google_search foi chamada corretamente.\")\n",
        "        print(f\"   Input para o agente: '{message_text[:150]}...'\")\n",
        "\n",
        "    return final_response.strip()\n",
        "\n",
        "# Função auxiliar para exibir texto formatado em Markdown no Colab\n",
        "def to_markdown(text):\n",
        "  if not isinstance(text, str):\n",
        "      text = str(text)\n",
        "  text = text.replace('•', '  *')\n",
        "  return Markdown(textwrap.indent(text, '> ', predicate=lambda _: True))\n",
        "\n",
        "\n"
      ],
      "metadata": {
        "id": "6GlNSyR8dA4n"
      },
      "execution_count": 8,
      "outputs": []
    },
    {
      "cell_type": "code",
      "source": [
        "\n",
        "#################################################################\n",
        "# --- Agente 1: Validador de Produto e Localização --- #\n",
        "#################################################################\n",
        "def agente_validador_detalhador(produto_bruto: str, cep_bruto: str):\n",
        "    validador_agente = Agent(\n",
        "        name=\"agente_validador_detalhador\",\n",
        "        model=MODEL_ID_AGENT,\n",
        "        instruction=f\"\"\"\n",
        "        Você é um assistente de pesquisa inicial. Sua tarefa é usar a ferramenta de busca do Google (google_search) para processar um produto e um CEP.\n",
        "        Produto fornecido: '{produto_bruto}'\n",
        "        CEP fornecido: '{cep_bruto}'\n",
        "\n",
        "        1.  **Análise do CEP:** Verifique se o CEP '{cep_bruto}' é um formato válido para o Brasil (8 dígitos numéricos). Usando a busca, tente encontrar a cidade e o estado correspondentes a este CEP. Se o CEP parecer inválido ou não for encontrado, declare isso.\n",
        "        2.  **Análise do Produto:** Para o produto '{produto_bruto}', faça uma busca rápida para entender melhor suas características principais, marca, ou modelos comuns. Se o nome for muito genérico (ex: \"notebook\"), liste algumas características chave a considerar (ex: \"Notebook para jogos? Para trabalho? Qual tamanho de tela?\"). Se for específico (ex: \"Samsung Galaxy S23 Ultra 256GB\"), confirme suas principais características.\n",
        "\n",
        "        **Formato da Resposta Obrigatório:**\n",
        "        ```text\n",
        "        **Análise do Produto e Localização:**\n",
        "\n",
        "        **Produto Analisado:** [Nome do produto, possivelmente com sugestões de refino, marcas ou características chave identificadas. Se for específico, confirme.]\n",
        "        **Termo de Produto para Próximos Agentes:** [Use o nome do produto refinado aqui, o mais específico possível para buscas futuras.]\n",
        "\n",
        "        **CEP Analisado:** {cep_bruto}\n",
        "        **Localização Encontrada:** [Cidade, Estado] (ou \"CEP inválido/não encontrado\" ou \"Informação de cidade/estado não encontrada para o CEP.\")\n",
        "\n",
        "        **Observações/Sugestões para o Produto:** [Breves comentários, como variações comuns, ou se mais detalhes do usuário seriam úteis.]\n",
        "\n",
        "        **Fontes e Buscas (Agente Validador):**\n",
        "        *   Termos de busca usados: [Liste 2-3 principais termos que você usou no google_search]\n",
        "        *   Principais fontes consultadas: [Liste 1-2 sites ou tipos de sites que foram úteis]\n",
        "        ```\n",
        "        Seja conciso e direto ao ponto.\n",
        "        \"\"\",\n",
        "        description=\"Agente que valida CEP, refina descrição do produto e identifica localização via Google Search.\",\n",
        "        tools=[google_search]\n",
        "    )\n",
        "    entrada_agente = f\"Por favor, processe o produto '{produto_bruto}' e o CEP '{cep_bruto}' conforme as instruções.\"\n",
        "    resultado_validacao = call_agent(validador_agente, entrada_agente)\n",
        "    return resultado_validacao\n",
        "\n"
      ],
      "metadata": {
        "id": "29rTpRb9cMiL"
      },
      "execution_count": 9,
      "outputs": []
    },
    {
      "cell_type": "code",
      "source": [
        "\n",
        "#################################################################\n",
        "# --- Agente 2: Buscador de Lojas Físicas e Estoque Próximo --- #\n",
        "#################################################################\n",
        "def agente_buscador_lojas_fisicas(info_completa_agente1: str):\n",
        "    buscador_fisico_agente = Agent(\n",
        "        name=\"agente_buscador_lojas_fisicas\",\n",
        "        model=MODEL_ID_AGENT,\n",
        "        instruction=f\"\"\"\n",
        "        Você é um especialista em encontrar produtos em lojas físicas locais.\n",
        "        Abaixo estão as informações validadas por um agente anterior. Extraia delas o 'Termo de Produto para Próximos Agentes' e a 'Localização Encontrada (Cidade, Estado)'.\n",
        "        Se a localização for \"CEP inválido\" ou \"não encontrada\", informe que não é possível prosseguir com a busca local e pare.\n",
        "\n",
        "        **Informações Validadas do Agente Anterior:**\n",
        "        {info_completa_agente1}\n",
        "\n",
        "        Usando o produto e a localização extraídos, sua tarefa é usar a ferramenta `google_search` para encontrar:\n",
        "        1.  Lojas físicas na cidade/região indicada que vendem o produto.\n",
        "        2.  Se possível, o preço em cada loja.\n",
        "        3.  Se possível, informações sobre disponibilidade para retirada imediata (\"retirar hoje\", \"em estoque\", \"disponível para coleta\").\n",
        "\n",
        "        Liste até 3-4 opções relevantes. Se não encontrar informações de estoque, apenas liste a loja e o preço, se disponíveis.\n",
        "\n",
        "        **Formato da Resposta Obrigatório:**\n",
        "        ```text\n",
        "        **Busca em Lojas Físicas ([Produto Extraído] em [Localização Extraída]):**\n",
        "\n",
        "        *   **Loja:** [Nome da Loja 1]\n",
        "            *   Endereço: [Endereço, se encontrado]\n",
        "            *   Preço: [R$ XX,XX, se encontrado]\n",
        "            *   Disponibilidade: [Informação sobre estoque/retirada, se encontrada]\n",
        "        *   **Loja:** [Nome da Loja 2]\n",
        "            *   ... (repetir)\n",
        "\n",
        "        (Se nenhuma opção for encontrada: \"Nenhuma loja física encontrada com o produto na região pesquisada com base nas informações disponíveis.\")\n",
        "\n",
        "        **Fontes e Buscas (Agente Lojas Físicas):**\n",
        "        *   Termos de busca usados: [Liste 2-3 principais termos]\n",
        "        *   Principais fontes consultadas: [Liste 1-2 sites ou tipos de sites]\n",
        "        ```\n",
        "        \"\"\",\n",
        "        description=\"Agente que busca o produto em lojas físicas próximas e verifica estoque, usando Google Search.\",\n",
        "        tools=[google_search]\n",
        "    )\n",
        "    entrada_agente = f\"Com base nas informações validadas fornecidas, realize a busca em lojas físicas: {info_completa_agente1}\"\n",
        "    resultados_lojas = call_agent(buscador_fisico_agente, entrada_agente)\n",
        "    return resultados_lojas\n"
      ],
      "metadata": {
        "id": "dPtAfYHZcCLc"
      },
      "execution_count": 10,
      "outputs": []
    },
    {
      "cell_type": "code",
      "source": [
        "\n",
        "#####################################################################\n",
        "# --- Agente 3: Buscador de Ofertas Online e Cupons --- #\n",
        "#####################################################################\n",
        "def agente_buscador_ofertas_online(info_completa_agente1: str):\n",
        "    buscador_online_agente = Agent(\n",
        "        name=\"agente_buscador_ofertas_online\",\n",
        "        model=MODEL_ID_AGENT,\n",
        "        instruction=f\"\"\"\n",
        "        Você é um especialista em encontrar as melhores ofertas online para produtos, com foco em entrega rápida e cupons de desconto.\n",
        "        Abaixo estão as informações validadas por um agente anterior. Extraia delas o 'Termo de Produto para Próximos Agentes'.\n",
        "\n",
        "        **Informações Validadas do Agente Anterior:**\n",
        "        {info_completa_agente1}\n",
        "\n",
        "        Usando o produto extraído, sua tarefa é usar a ferramenta `google_search` para encontrar:\n",
        "        1.  Lojas online que vendem o produto com opções de entrega rápida (ex: entrega em até 2-5 dias úteis no Brasil).\n",
        "        2.  O preço do produto em cada loja online.\n",
        "        3.  Cupons de desconto aplicáveis para essas lojas ou para o produto específico.\n",
        "\n",
        "        Liste até 3-4 opções relevantes.\n",
        "\n",
        "        **Formato da Resposta Obrigatório:**\n",
        "        ```text\n",
        "        **Busca de Ofertas Online ([Produto Extraído]):**\n",
        "\n",
        "        *   **Loja Online:** [Nome da Loja 1]\n",
        "            *   Produto na Loja: [Nome do Produto na Loja, se variar do termo buscado]\n",
        "            *   Preço: [R$ XX,XX]\n",
        "            *   Entrega Estimada: [Informação, se encontrada, ex: 'Até X dias úteis']\n",
        "            *   Cupom: [Código do Cupom ou \"Nenhum cupom evidente encontrado\"]\n",
        "        *   **Loja Online:** [Nome da Loja 2]\n",
        "            *   ... (repetir)\n",
        "\n",
        "        (Se nenhuma opção for encontrada: \"Nenhuma oferta online relevante com entrega rápida encontrada para o produto.\")\n",
        "\n",
        "        **Fontes e Buscas (Agente Ofertas Online):**\n",
        "        *   Termos de busca usados: [Liste 2-3 principais termos]\n",
        "        *   Principais fontes consultadas: [Liste 1-2 sites ou tipos de sites]\n",
        "        ```\n",
        "        \"\"\",\n",
        "        description=\"Agente que busca ofertas online, focando em entrega rápida e cupons, usando Google Search.\",\n",
        "        tools=[google_search]\n",
        "    )\n",
        "    entrada_agente = f\"Com base nas informações validadas fornecidas, realize a busca de ofertas online: {info_completa_agente1}\"\n",
        "    resultados_online = call_agent(buscador_online_agente, entrada_agente)\n",
        "    return resultados_online"
      ],
      "metadata": {
        "id": "To_4Gpc5b_QH"
      },
      "execution_count": 11,
      "outputs": []
    },
    {
      "cell_type": "code",
      "source": [
        "\n",
        "####################################################################\n",
        "# --- Agente 4: Consolidador e Recomendador --- #\n",
        "####################################################################\n",
        "def agente_consolidador_recomendador(produto_original_usuario: str, info_validada_ag1: str, resultados_lojas_fisicas: str, resultados_ofertas_online: str):\n",
        "    consolidador_agente = Agent(\n",
        "        name=\"agente_consolidador_recomendador\",\n",
        "        model=MODEL_ID_AGENT,\n",
        "        instruction=f\"\"\"\n",
        "        Você é um assistente de compras inteligente. Seu trabalho é analisar os resultados das buscas de lojas físicas e ofertas online para um produto e fornecer um resumo e recomendações claras para o usuário.\n",
        "        **Não use ferramentas de busca (google_search)**, apenas processe o texto fornecido.\n",
        "\n",
        "        Produto Originalmente Solicitado pelo Usuário: '{produto_original_usuario}'\n",
        "        Informações Validadas pelo Agente 1 (contém o produto refinado e localização):\n",
        "        {info_validada_ag1}\n",
        "\n",
        "        Resultados da Busca em Lojas Físicas (Agente 2):\n",
        "        {resultados_lojas_fisicas}\n",
        "\n",
        "        Resultados da Busca de Ofertas Online (Agente 3):\n",
        "        {resultados_ofertas_online}\n",
        "\n",
        "        Com base exclusivamente nessas informações, forneça:\n",
        "        1.  Um breve resumo das melhores opções encontradas (máximo 2-3 no total), considerando preço, disponibilidade/rapidez e conveniência.\n",
        "        2.  Destaque a 'Melhor Opção para Hoje' (se houver loja física com disponibilidade imediata e bom preço).\n",
        "        3.  Destaque a 'Melhor Opção Online' (considerando preço + frete/entrega rápida + cupons).\n",
        "        4.  Destaque a 'Opção Mais Barata no Geral' (se diferente das anteriores, mesmo com entrega mais longa ou se for em loja física).\n",
        "\n",
        "        Seja objetivo e claro. Se as buscas não retornaram resultados úteis em alguma categoria, indique isso de forma neutra.\n",
        "        Use o \"Termo de Produto para Próximos Agentes\" (da saída do Agente 1) como o nome do produto nas suas recomendações.\n",
        "\n",
        "        **Formato da Resposta Obrigatório:**\n",
        "        ```text\n",
        "        **Relatório Final do Detetive de Preços para '[Termo de Produto extraído da info_validada_ag1]'**\n",
        "\n",
        "        Analisando as buscas para o produto originalmente solicitado: '{produto_original_usuario}'.\n",
        "\n",
        "        *   **Opção Destaque para Compra Imediata (Lojas Físicas):**\n",
        "            *   [Detalhes da melhor opção física encontrada, ex: Loja X, Preço Y, Disponível hoje. Ou: \"Nenhuma opção clara para compra imediata identificada nas buscas.\"].\n",
        "\n",
        "        *   **Opção Destaque Online (Equilíbrio Preço/Rapidez):**\n",
        "            *   [Detalhes da melhor opção online, ex: Loja Online A, Preço B, Entrega C, Cupom D. Ou: \"Nenhuma opção online com bom equilíbrio preço/rapidez destacada nas buscas.\"].\n",
        "\n",
        "        *   **Opção Mais Barata Identificada (Geral):**\n",
        "            *   [Detalhes da opção mais barata, seja física ou online, ex: Loja Z, Preço W. Ou: \"Não foi possível determinar uma opção claramente mais barata com os dados fornecidos.\"].\n",
        "\n",
        "        **Observações Gerais do Detetive:**\n",
        "        *   [Qualquer ponto relevante, como: \"A busca em lojas físicas para [Cidade] retornou poucas opções.\" ou \"Vários cupons encontrados para compras online.\" ou \"Produto parece ter alta variação de preço.\" Se não houver nada relevante, pode omitir ou dizer \"Nenhuma observação adicional.\"].\n",
        "        ```\n",
        "        \"\"\",\n",
        "        description=\"Agente que consolida informações e recomenda as melhores opções de compra, sem usar busca.\"\n",
        "        # Este agente NÃO usa tools.\n",
        "    )\n",
        "    entrada_agente = (\n",
        "        f\"Produto Original: {produto_original_usuario}\\n\\n\"\n",
        "        f\"Info Agente 1:\\n{info_validada_ag1}\\n\\n\"\n",
        "        f\"Resultados Lojas Físicas:\\n{resultados_lojas_fisicas}\\n\\n\"\n",
        "        f\"Resultados Ofertas Online:\\n{resultados_ofertas_online}\"\n",
        "    )\n",
        "    recomendacao_final = call_agent(consolidador_agente, entrada_agente)\n",
        "    return recomendacao_final"
      ],
      "metadata": {
        "id": "TnxG_lEob56E"
      },
      "execution_count": 13,
      "outputs": []
    },
    {
      "cell_type": "code",
      "source": [
        "# --- Fluxo Principal do Detetive de Preços ---\n",
        "print(\"🚀 Iniciando o Detetive de Preços e Disponibilidade Relâmpago 🚀\")\n",
        "\n",
        "produto_desejado_usuario = input(\"❓ Por favor, digite o NOME do produto que você procura: \")\n",
        "cep_usuario_input = input(\"🏠 Por favor, digite o seu CEP (apenas números, ex: 01000000) para busca local: \")\n",
        "\n",
        "if not produto_desejado_usuario or not cep_usuario_input:\n",
        "    print(\"\\n⚠️ Você precisa informar o nome do produto e o CEP para o detetive trabalhar!\")\n",
        "else:\n",
        "    print(f\"\\n🔍 Buscando por '{produto_desejado_usuario}' perto do CEP '{cep_usuario_input}'. Aguarde, isso pode levar alguns instantes...\\n\")\n",
        "\n",
        "    # --- Agente 1: Validador e Detalhador ---\n",
        "    print(\"--- 🕵️ Agente 1: Validando Produto e Localização ---\")\n",
        "    info_validada_ag1 = agente_validador_detalhador(produto_desejado_usuario, cep_usuario_input)\n",
        "    display(to_markdown(info_validada_ag1))\n",
        "    print(\"--------------------------------------------------------------\\n\")\n",
        "\n",
        "    # Verifica se a validação foi bem-sucedida antes de prosseguir com buscas dependentes\n",
        "    pode_buscar_local = \"CEP inválido\" not in info_validada_ag1 and \"não encontrada para o CEP\" not in info_validada_ag1\n",
        "\n",
        "    # --- Agente 2: Buscador de Lojas Físicas ---\n",
        "    if pode_buscar_local and info_validada_ag1.strip(): # Também verifica se Agente 1 retornou algo\n",
        "        print(\"--- 🏪 Agente 2: Buscando em Lojas Físicas Próximas ---\")\n",
        "        resultados_lojas_fisicas = agente_buscador_lojas_fisicas(info_validada_ag1)\n",
        "        display(to_markdown(resultados_lojas_fisicas))\n",
        "    elif not info_validada_ag1.strip():\n",
        "        print(\"--- 🏪 Agente 2: Busca em Lojas Físicas Pulada (Agente 1 não retornou informações) ---\")\n",
        "        resultados_lojas_fisicas = \"Busca em lojas físicas não realizada devido à ausência de informações do agente validador.\"\n",
        "        display(to_markdown(resultados_lojas_fisicas))\n",
        "    else:\n",
        "        print(\"--- 🏪 Agente 2: Busca em Lojas Físicas Pulada (Problema com CEP na validação) ---\")\n",
        "        resultados_lojas_fisicas = \"Busca em lojas físicas não realizada devido a CEP inválido ou não encontrado pelo agente validador.\"\n",
        "        display(to_markdown(resultados_lojas_fisicas))\n",
        "    print(\"--------------------------------------------------------------\\n\")\n",
        "\n",
        "    # --- Agente 3: Buscador de Ofertas Online ---\n",
        "    if info_validada_ag1.strip(): # Só busca online se Agente 1 retornou algo\n",
        "        print(\"--- 💻 Agente 3: Buscando Ofertas Online e Cupons ---\")\n",
        "        resultados_ofertas_online = agente_buscador_ofertas_online(info_validada_ag1)\n",
        "        display(to_markdown(resultados_ofertas_online))\n",
        "    else:\n",
        "        print(\"--- 💻 Agente 3: Busca de Ofertas Online Pulada (Agente 1 não retornou informações) ---\")\n",
        "        resultados_ofertas_online = \"Busca de ofertas online não realizada devido à ausência de informações do agente validador.\"\n",
        "        display(to_markdown(resultados_ofertas_online))\n",
        "    print(\"--------------------------------------------------------------\\n\")\n",
        "\n",
        "    # --- Agente 4: Consolidador e Recomendador ---\n",
        "    if info_validada_ag1.strip(): # Só consolida se Agente 1 retornou algo\n",
        "        print(\"--- 🏆 Agente 4: Consolidando Resultados e Recomendando ---\")\n",
        "        recomendacao_final = agente_consolidador_recomendador(\n",
        "            produto_desejado_usuario, # Passa o nome original para referência no relatório\n",
        "            info_validada_ag1,\n",
        "            resultados_lojas_fisicas,\n",
        "            resultados_ofertas_online\n",
        "        )\n",
        "        display(to_markdown(recomendacao_final))\n",
        "    else:\n",
        "        print(\"--- 🏆 Agente 4: Consolidação Pulada (Agente 1 não retornou informações) ---\")\n",
        "        display(to_markdown(\"Não foi possível gerar recomendações pois o agente inicial de validação não forneceu dados.\"))\n",
        "    print(\"--------------------------------------------------------------\\n\")\n",
        "\n",
        "    print(\"✨ Detetive de Preços concluiu a investigação! ✨\")"
      ],
      "metadata": {
        "colab": {
          "base_uri": "https://localhost:8080/",
          "height": 1000
        },
        "id": "fXuoM3P-b4bH",
        "outputId": "40acc765-7d04-439f-cd5d-0baaf2b0c2dd"
      },
      "execution_count": 14,
      "outputs": [
        {
          "output_type": "stream",
          "name": "stdout",
          "text": [
            "🚀 Iniciando o Detetive de Preços e Disponibilidade Relâmpago 🚀\n",
            "❓ Por favor, digite o NOME do produto que você procura: fraldas rn\n",
            "🏠 Por favor, digite o seu CEP (apenas números, ex: 01000000) para busca local: 13086-901\n",
            "\n",
            "🔍 Buscando por 'fraldas rn' perto do CEP '13086-901'. Aguarde, isso pode levar alguns instantes...\n",
            "\n",
            "--- 🕵️ Agente 1: Validando Produto e Localização ---\n"
          ]
        },
        {
          "output_type": "display_data",
          "data": {
            "text/plain": [
              "<IPython.core.display.Markdown object>"
            ],
            "text/markdown": "> **Análise do Produto e Localização:**\n> \n> **Produto Analisado:** Fraldas RN (Recém-Nascido). Marcas comuns incluem Pampers, Huggies, MamyPoko e Pom Pom. É importante verificar a quantidade de fraldas por pacote e se possuem corte para o umbigo.\n> **Termo de Produto para Próximos Agentes:** Fraldas RN Pampers Premium Care\n> \n> **CEP Analisado:** 13086-901\n> **Localização Encontrada:** Campinas, SP (possível, mas outros resultados sugerem CEPs similares em Campinas)\n> \n> **Observações/Sugestões para o Produto:** Verificar a sensibilidade da pele do bebê para escolher fraldas hipoalergênicas. A localização do CEP precisa ser confirmada, pois há resultados conflitantes.\n> \n> **Fontes e Buscas (Agente Validador):**\n> \n> *   Termos de busca usados: \"CEP 13086-901 localização\", \"fraldas rn marca\"\n> *   Principais fontes consultadas: Google Search, sites de farmácias (Drogasil, Droga Raia), e artigos/listas de \"melhores fraldas RN\"."
          },
          "metadata": {}
        },
        {
          "output_type": "stream",
          "name": "stdout",
          "text": [
            "--------------------------------------------------------------\n",
            "\n",
            "--- 🏪 Agente 2: Buscando em Lojas Físicas Próximas ---\n"
          ]
        },
        {
          "output_type": "display_data",
          "data": {
            "text/plain": [
              "<IPython.core.display.Markdown object>"
            ],
            "text/markdown": "> **Busca em Lojas Físicas (Fraldas RN Pampers Premium Care em Campinas, SP):**\n> \n> *   **Loja:** Drugstore Popular\n>     *   Endereço: Rua da Abolição, 2640, Vila Joaquim Inácio, Campinas - SP, CEP: 13045-750\n>     *   Preço: R$34,20 (5% off R$35,99) - Fralda Pampers Premium Care Recém Nascido RN 20 unidades\n>     *   Disponibilidade: Não especificada, mas menciona \"Em estoque\" no site.\n> \n> *   **Loja:** Drogasil (loja parceira)\n>     *   Endereço: Não especificado, mas é uma rede de farmácias com várias lojas em Campinas.\n>     *   Preço: R$ 47,90 - Fralda Pampers Premium Care RN C/ 20 fraldas\n>     *   Disponibilidade: Verificar disponibilidade online ou em lojas físicas.\n> \n> *   **Loja:** Magazine Luiza\n>     *   Endereço: Não especificado, pois os preços podem variar nas lojas físicas.\n>     *   Preço: R$ 28,70 - Fralda Pampers Premium Care Rn - Até 4Kg 20 Unidades\n>     *   Disponibilidade: Verificar disponibilidade online ou em lojas físicas.\n> \n> *   **Loja:** Carrefour\n>     *   Endereço: Não especificado, mas é uma rede de supermercados com várias lojas em Campinas.\n>     *   Preço: Não especificado\n>     *   Disponibilidade: Menciona opções de \"Retire de carro\", \"Retire na loja\" e \"Receba em casa\". Verificar a disponibilidade do produto e os preços no site ou aplicativo do Carrefour.\n> \n> **Fontes e Buscas (Agente Lojas Físicas):**\n> \n> *   Termos de busca usados: \"Fraldas RN Pampers Premium Care Campinas SP lojas físicas\", \"preço Fraldas RN Pampers Premium Care Campinas SP\", \"onde comprar Fraldas RN Pampers Premium Care Campinas SP\"\n> *   Principais fontes consultadas: Google Search, sites de farmácias (Drogasil, Droga Raia), sites de supermercados (Carrefour), Magazine Luiza."
          },
          "metadata": {}
        },
        {
          "output_type": "stream",
          "name": "stdout",
          "text": [
            "--------------------------------------------------------------\n",
            "\n",
            "--- 💻 Agente 3: Buscando Ofertas Online e Cupons ---\n"
          ]
        },
        {
          "output_type": "display_data",
          "data": {
            "text/plain": [
              "<IPython.core.display.Markdown object>"
            ],
            "text/markdown": "> **Busca de Ofertas Online (Fraldas RN Pampers Premium Care):**\n> \n> *   **Loja Online:** Drogaria Araujo\n>     *   Produto na Loja: Fralda Pampers Recém-Nascido Premium Care RN 36 Unidades\n>     *   Preço: R$ 58,89\n>     *   Entrega Estimada: Informação sobre entrega disponível ao escolher a opção de entrega.\n>     *   Cupom: Nenhum cupom evidente encontrado\n> *   **Loja Online:** Drogaria São Paulo\n>     *   Produto na Loja: Fraldas Pampers Premium Care Recém-Nascido RN+ 36 Unidades\n>     *   Preço: R$ 54,90 (R$ 59,99 preço original com 8% OFF)\n>     *   Entrega Estimada: Entrega de até 2h (mencionado no site, verificar disponibilidade para o CEP específico).\n>     *   Cupom: Consultar Desconto PBM pelo CPF (possível desconto adicional).\n> *   **Loja Online:** Drogal\n>     *   Produto na Loja: Fraldas Pampers Recém Nascido Premium Care RN 36 Unidades\n>     *   Preço: Não especificado no resultado inicial, requer verificação no site.\n>     *   Entrega Estimada: Entrega no mesmo dia ou retirada em 1h (verificar disponibilidade para o CEP específico).\n>     *   Cupom: Desconto de até 25% OFF em fraldas (pode ser válido para produtos selecionados, verificar no site).\n> *   **Loja Online:** Drugstore Popular\n>     *   Produto na Loja: Fralda Pampers Premium Care Recem Nascido RN 20 Unidades\n>     *   Preço: R$34,20 (Preço Especial com 5% off R$35,99)\n>     *   Entrega Estimada: Entrega Expressa na região de Campinas para pedidos acima de R$30,00.\n>     *   Cupom: Nenhum cupom evidente encontrado\n> \n> **Fontes e Buscas (Agente Ofertas Online):**\n> \n> *   Termos de busca usados: \"fraldas RN Pampers Premium Care entrega rápida Campinas SP\", \"cupom desconto fraldas Pampers Premium Care Campinas\"\n> *   Principais fontes consultadas: Drogarias Pacheco, Drogaria Araujo, Drogaria São Paulo, Drogal, Drugstore Popular"
          },
          "metadata": {}
        },
        {
          "output_type": "stream",
          "name": "stdout",
          "text": [
            "--------------------------------------------------------------\n",
            "\n",
            "--- 🏆 Agente 4: Consolidando Resultados e Recomendando ---\n"
          ]
        },
        {
          "output_type": "display_data",
          "data": {
            "text/plain": [
              "<IPython.core.display.Markdown object>"
            ],
            "text/markdown": "> ```text\n> **Relatório Final do Detetive de Preços para 'Fraldas RN Pampers Premium Care'**\n> \n> Analisando as buscas para o produto originalmente solicitado: 'fraldas rn'.\n> \n> *   **Opção Destaque para Compra Imediata (Lojas Físicas):**\n>     *   Magazine Luiza oferece Fralda Pampers Premium Care Rn - Até 4Kg 20 Unidades por R$ 28,70. É necessário verificar a disponibilidade na loja física.\n> \n> *   **Opção Destaque Online (Equilíbrio Preço/Rapidez):**\n>     *   Drogaria São Paulo oferece Fraldas Pampers Premium Care Recém-Nascido RN+ 36 Unidades por R$ 54,90 com entrega de até 2h (verificar disponibilidade para o CEP específico) e possível desconto PBM pelo CPF.\n> \n> *   **Opção Mais Barata Identificada (Geral):**\n>     *   Magazine Luiza (loja física) oferece Fralda Pampers Premium Care Rn - Até 4Kg 20 Unidades por R$ 28,70, mas é necessário verificar a disponibilidade.\n> \n> **Observações Gerais do Detetive:**\n> *   É importante verificar a disponibilidade dos produtos nas lojas físicas antes de se deslocar.\n> ```"
          },
          "metadata": {}
        },
        {
          "output_type": "stream",
          "name": "stdout",
          "text": [
            "--------------------------------------------------------------\n",
            "\n",
            "✨ Detetive de Preços concluiu a investigação! ✨\n"
          ]
        }
      ]
    }
  ]
}